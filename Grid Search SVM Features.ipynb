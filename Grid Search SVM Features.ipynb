{
 "cells": [
  {
   "cell_type": "code",
   "execution_count": 1,
   "metadata": {
    "collapsed": true
   },
   "outputs": [],
   "source": [
    "import pandas as pd\n",
    "import numpy as np\n",
    "import matplotlib.pyplot as plt\n",
    "\n",
    "from sklearn.grid_search import GridSearchCV\n",
    "from sklearn.cross_validation import train_test_split\n",
    "from sklearn.metrics import roc_auc_score\n",
    "from sklearn.ensemble import ExtraTreesClassifier\n",
    "from sklearn.feature_selection import SelectFromModel\n",
    "\n",
    "import xgboost as xgb\n",
    "\n",
    "from dataio import getdata, writesub"
   ]
  },
  {
   "cell_type": "code",
   "execution_count": 9,
   "metadata": {
    "collapsed": true
   },
   "outputs": [],
   "source": [
    "import time"
   ]
  },
  {
   "cell_type": "code",
   "execution_count": 2,
   "metadata": {
    "collapsed": true
   },
   "outputs": [],
   "source": [
    "trainpath = 'train.csv'\n",
    "testpath = 'test.csv'\n",
    "df_train,df_test = getdata(trainpath,testpath)"
   ]
  },
  {
   "cell_type": "code",
   "execution_count": 7,
   "metadata": {
    "collapsed": false
   },
   "outputs": [
    {
     "name": "stdout",
     "output_type": "stream",
     "text": [
      "((60816, 306), (15204, 306), (75818, 306))\n"
     ]
    }
   ],
   "source": [
    "rs = 19683\n",
    "\n",
    "# split data into train and test\n",
    "test_id = df_test.ID\n",
    "test = df_test.drop([\"ID\"],axis=1)\n",
    "\n",
    "X = df_train.drop([\"TARGET\",\"ID\"],axis=1)\n",
    "y = df_train.TARGET.values\n",
    "\n",
    "X_train, X_test, y_train, y_test = train_test_split(X, y, test_size=0.20, random_state=rs)\n",
    "\n",
    "print(X_train.shape, X_test.shape, test.shape)\n"
   ]
  },
  {
   "cell_type": "code",
   "execution_count": 8,
   "metadata": {
    "collapsed": false
   },
   "outputs": [
    {
     "name": "stdout",
     "output_type": "stream",
     "text": [
      "((60816, 35), (15204, 35), (75818, 35))\n"
     ]
    }
   ],
   "source": [
    "## # Feature selection\n",
    "clf = ExtraTreesClassifier(random_state=rs)\n",
    "selector = clf.fit(X_train, y_train)\n",
    "# clf.feature_importances_ \n",
    "fs = SelectFromModel(selector, prefit=True)\n",
    "\n",
    "X_train = fs.transform(X_train)\n",
    "X_test = fs.transform(X_test)\n",
    "test = fs.transform(test)\n",
    "\n",
    "print(X_train.shape, X_test.shape, test.shape)"
   ]
  },
  {
   "cell_type": "code",
   "execution_count": null,
   "metadata": {
    "collapsed": false
   },
   "outputs": [],
   "source": [
    "start_time = time.time()\n",
    "# grid search for params\n",
    "xgb_model = xgb.XGBClassifier()\n",
    "clf = GridSearchCV(xgb_model, {'max_depth': [2, 4, 6],\n",
    "                               'learning_rate': [0.01, 0.1, 0.25],\n",
    "                               'n_estimators': [50, 200, 500]}, \n",
    "                    verbose=1, n_jobs=1, scoring = 'roc_auc')\n",
    "clf.fit(X_train, y_train)\n",
    "print('Best score = %.6f'%(clf.best_score_))\n",
    "print('Best params are as follows:')\n",
    "print(clf.best_params_)\n",
    "print(\"Finished grid search. Took %.2f minutes\" %((time.time()-start_time)/60))"
   ]
  },
  {
   "cell_type": "code",
   "execution_count": null,
   "metadata": {
    "collapsed": true
   },
   "outputs": [],
   "source": [
    "## # Train Model\n",
    "# classifier from xgboost\n",
    "m2_xgb = xgb.XGBClassifier(n_estimators=110, nthread=-1, seed=1729)\n",
    "m2_xgb.fit(X_train, y_train, eval_metric=\"auc\", verbose = False,\n",
    "           eval_set=[(X_test, y_test)])\n",
    "\n",
    "# calculate the auc score\n",
    "print(\"Roc AUC: \", roc_auc_score(y_test, m2_xgb.predict_proba(X_test)[:,1],\n",
    "              average='macro'))\n",
    "              \n",
    "## # Submission\n",
    "probs = m2_xgb.predict_proba(test)\n",
    "\n",
    "submission = pd.DataFrame({\"ID\":test_id, \"TARGET\": probs[:,1]})\n",
    "submission.to_csv(\"submission.csv\", index=False)\n"
   ]
  }
 ],
 "metadata": {
  "kernelspec": {
   "display_name": "Python 2",
   "language": "python",
   "name": "python2"
  },
  "language_info": {
   "codemirror_mode": {
    "name": "ipython",
    "version": 2
   },
   "file_extension": ".py",
   "mimetype": "text/x-python",
   "name": "python",
   "nbconvert_exporter": "python",
   "pygments_lexer": "ipython2",
   "version": "2.7.11"
  }
 },
 "nbformat": 4,
 "nbformat_minor": 0
}
